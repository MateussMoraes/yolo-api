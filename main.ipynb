{
 "cells": [
  {
   "cell_type": "code",
   "execution_count": null,
   "metadata": {},
   "outputs": [
    {
     "name": "stderr",
     "output_type": "stream",
     "text": [
      "qt.qpa.plugin: Could not find the Qt platform plugin \"wayland\" in \"/home/mateusmoraes/Projects/api-yolo/venv/lib/python3.12/site-packages/cv2/qt/plugins\"\n"
     ]
    },
    {
     "name": "stdout",
     "output_type": "stream",
     "text": [
      "\n",
      "image 1/1 /home/mateusmoraes/Projects/api-yolo/carros3.webp: 384x640 4 cars, 323.4ms\n",
      "Speed: 1.2ms preprocess, 323.4ms inference, 0.5ms postprocess per image at shape (1, 3, 384, 640)\n",
      "Abrindo em uma sessão de navegador existente.\n"
     ]
    }
   ],
   "source": [
    "from ultralytics import YOLO\n",
    "\n",
    "model = YOLO(\"yolov8l.pt\")\n",
    "\n",
    "path = \"./carros3.webp\"\n",
    "\n",
    "resultado = model(path, show=True)\n",
    "\n",
    "resultado[0].show()\n",
    "\n",
    "# import cv2\n",
    "# cv2.waitKey(0)\n",
    "# cv2.destroyAllWindows()"
   ]
  }
 ],
 "metadata": {
  "kernelspec": {
   "display_name": "venv",
   "language": "python",
   "name": "python3"
  },
  "language_info": {
   "codemirror_mode": {
    "name": "ipython",
    "version": 3
   },
   "file_extension": ".py",
   "mimetype": "text/x-python",
   "name": "python",
   "nbconvert_exporter": "python",
   "pygments_lexer": "ipython3",
   "version": "3.12.7"
  }
 },
 "nbformat": 4,
 "nbformat_minor": 2
}
